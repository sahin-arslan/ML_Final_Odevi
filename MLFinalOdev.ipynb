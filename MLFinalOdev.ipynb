{
  "nbformat": 4,
  "nbformat_minor": 0,
  "metadata": {
    "colab": {
      "provenance": [],
      "authorship_tag": "ABX9TyPh9zMABDRl1MDdaG3A3H7I",
      "include_colab_link": true
    },
    "kernelspec": {
      "name": "python3",
      "display_name": "Python 3"
    },
    "language_info": {
      "name": "python"
    }
  },
  "cells": [
    {
      "cell_type": "markdown",
      "metadata": {
        "id": "view-in-github",
        "colab_type": "text"
      },
      "source": [
        "<a href=\"https://colab.research.google.com/github/sahin-arslan/ML_Final_Odevi/blob/main/MLFinalOdev.ipynb\" target=\"_parent\"><img src=\"https://colab.research.google.com/assets/colab-badge.svg\" alt=\"Open In Colab\"/></a>"
      ]
    },
    {
      "cell_type": "markdown",
      "source": [
        "**1.\tSize atanan veri setine tüm algoritmalar için optimizasyon uygulayınız.**\n",
        "\n",
        "\n",
        "*   Normalizasyon işlemi için Min-Max yöntemini kullunıyoruz\n",
        "*   Bağımlı ve bağımsız değişkenlerimizi ayırıyoruz.\n",
        "*   Eğitim ve test setlerimizi ayırıyoruz(%20 test)\n",
        "*   Model hiperparametlererini belirliyoruz. Burada RandomForestRegressor'den yararlanıyoruz\n",
        "*   Grid Search kullanarak hiperparemater optimizasyonu yapıyoruz.\n",
        "*   En iyi parametrelerimizi belirledikten sonra ekrana yazdırıyoruz.\n",
        "\n",
        "\n",
        "\n",
        "\n",
        "\n"
      ],
      "metadata": {
        "id": "zj7ENvqaz1q_"
      }
    },
    {
      "cell_type": "code",
      "source": [
        "import pandas as pd\n",
        "from sklearn.model_selection import train_test_split, GridSearchCV\n",
        "from sklearn.ensemble import RandomForestRegressor\n",
        "from sklearn.metrics import mean_squared_error\n",
        "\n",
        "# Veri setini yükleyin\n",
        "df = pd.read_csv('veri-seti.txt', sep=\"\\t\")\n",
        "\n",
        "# Eksik verileri kontrol edin\n",
        "print(df.isnull().sum())\n",
        "\n",
        "# Normalizasyon\n",
        "from sklearn.preprocessing import MinMaxScaler\n",
        "scaler = MinMaxScaler()\n",
        "df_scaled = pd.DataFrame(scaler.fit_transform(df), columns=df.columns)\n",
        "\n",
        "# Özellik ve hedef değişkenleri ayırın\n",
        "X = df_scaled.drop('CV', axis=1)\n",
        "y = df_scaled['CV']\n",
        "\n",
        "# Veriyi eğitim ve test setlerine ayırın\n",
        "X_train, X_test, y_train, y_test = train_test_split(X, y, test_size=0.2, random_state=42)\n",
        "\n",
        "#En İyi Parametreler:\n",
        "\n",
        "# Model ve Hiperparametreler\n",
        "model = RandomForestRegressor(random_state=42)\n",
        "param_grid = {\n",
        "    'n_estimators': [50, 100, 200],\n",
        "    'max_depth': [None, 10, 20, 30],\n",
        "    'min_samples_split': [2, 5, 10],\n",
        "    'min_samples_leaf': [1, 2, 4]\n",
        "}\n",
        "\n",
        "# Grid Search ile Hiperparametre Optimizasyonu\n",
        "grid_search = GridSearchCV(estimator=model, param_grid=param_grid, cv=3, n_jobs=-1, verbose=2)\n",
        "grid_search.fit(X_train, y_train)\n",
        "\n",
        "# En iyi parametreler\n",
        "print(f'\\nEn iyi parametre Listesi: {grid_search.best_params_}')\n",
        "\n",
        "# En iyi model ile tahmin yapma\n",
        "best_model = grid_search.best_estimator_\n",
        "y_pred = best_model.predict(X_test)\n",
        "\n",
        "# Model performansını değerlendirme\n",
        "mse = mean_squared_error(y_test, y_pred)\n",
        "print(f'\\nMSE (Tahminlerin gerçek değerlerden ne kadar saptığı:): {mse}')\n"
      ],
      "metadata": {
        "colab": {
          "base_uri": "https://localhost:8080/"
        },
        "id": "SK7O1dgFxMd5",
        "outputId": "03a31124-a1c3-4e56-cf9b-ff788a2573a5"
      },
      "execution_count": 1,
      "outputs": [
        {
          "output_type": "stream",
          "name": "stdout",
          "text": [
            "NOTP    0\n",
            "PGC     0\n",
            "DBP     0\n",
            "TST     0\n",
            "INS     0\n",
            "BMI     0\n",
            "DPF     0\n",
            "Age     0\n",
            "CV      0\n",
            "dtype: int64\n",
            "Fitting 3 folds for each of 108 candidates, totalling 324 fits\n",
            "\n",
            "En iyi parametre Listesi: {'max_depth': None, 'min_samples_leaf': 2, 'min_samples_split': 10, 'n_estimators': 50}\n",
            "\n",
            "MSE (Tahminlerin gerçek değerlerden ne kadar saptığı:): 0.16973497650428213\n"
          ]
        }
      ]
    },
    {
      "cell_type": "markdown",
      "source": [
        "**Sonuçların yorumlanması**\n",
        "Paremetre listesini kullanarak en iyi performans için parametrelerimizi aşağıdaki gibi belirledik. Herbir kalemde ilgili parametreye ait açıklamayı aşağıda bulabilirsiniz.\n",
        "\n",
        "1.   max_depth : None (olarak çıktı bu da ağaçımızın büyüme konusunda bir sınır koymayacağımız anlamına geliyor.)\n",
        "2.   min_samples_leaf : 2 (Bir düğüm de bulunması gereken minimum dal sayısı)\n",
        "3.   min_samples_split: 10 (bir sonraki düğüme dallanmak için gerekli minumun öğe sayısı)\n",
        "4.   n_estimators: 50(oluşturulacak ağaç sayısı)\n",
        "\n",
        "\n",
        "\n",
        "\n"
      ],
      "metadata": {
        "id": "T9F4WwYm1NJi"
      }
    },
    {
      "cell_type": "markdown",
      "source": [
        "**2. Veri setinizi rastgele olarak %70 eğitim %30 test olacak şekilde ayırınız. Eğitim veri seti için Naive bayes sınıflandırıcısını uygulayınız. Elde ettiğiniz sonucları raporlayınız.**"
      ],
      "metadata": {
        "id": "SiAiMzxYOAp3"
      }
    },
    {
      "cell_type": "code",
      "source": [
        "from sklearn.naive_bayes import GaussianNB\n",
        "from sklearn.metrics import accuracy_score, classification_report\n",
        "\n",
        "# Hedef değişkeni ve bağımsız değişkenleri ayırın\n",
        "X = df.drop('CV', axis=1)\n",
        "y = df['CV']\n",
        "\n",
        "# Veri setini rastgele %70 eğitim %30 test olacak şekilde ayırın\n",
        "X_train, X_test, y_train, y_test = train_test_split(X, y, test_size=0.3, random_state=42)\n",
        "\n",
        "# Naive Bayes sınıflandırıcısını oluşturun ve eğitin\n",
        "nb_classifier = GaussianNB()\n",
        "nb_classifier.fit(X_train, y_train)\n",
        "\n",
        "# Test verileri üzerinde tahmin yapın\n",
        "y_pred = nb_classifier.predict(X_test)\n",
        "\n",
        "# Sonuçları raporlayın\n",
        "accuracy = accuracy_score(y_test, y_pred)\n",
        "print(\"Doğruluk:\", accuracy)\n",
        "print(\"\\nSınıflandırma Raporu:\\n\", classification_report(y_test, y_pred))"
      ],
      "metadata": {
        "colab": {
          "base_uri": "https://localhost:8080/"
        },
        "id": "Mm2R57nhON55",
        "outputId": "e2a43985-31b3-473b-ab43-019013a1bc91"
      },
      "execution_count": 2,
      "outputs": [
        {
          "output_type": "stream",
          "name": "stdout",
          "text": [
            "Doğruluk: 0.7445887445887446\n",
            "\n",
            "Sınıflandırma Raporu:\n",
            "               precision    recall  f1-score   support\n",
            "\n",
            "           0       0.82      0.79      0.80       151\n",
            "           1       0.62      0.66      0.64        80\n",
            "\n",
            "    accuracy                           0.74       231\n",
            "   macro avg       0.72      0.73      0.72       231\n",
            "weighted avg       0.75      0.74      0.75       231\n",
            "\n"
          ]
        }
      ]
    },
    {
      "cell_type": "markdown",
      "source": [
        "**Genel Doğruluk**\n",
        "  **Doğruluk:**\n",
        "    **0.7445887445887446**\n",
        "      Modelinizin doğruluğu yaklaşık %74. Bu, modelinizin test verileri üzerindeki tahminlerinin %74'ünün doğru olduğunu gösterir.\n",
        "\n",
        "**Sınıflandırma Raporu**\n",
        "\n",
        "  **Sınıf 0 (Negatif Sınıf)**\n",
        "\n",
        "    **Precision (Kesinlik): 0.82**\n",
        "    Modelinizin sınıf 0 için yaptığı pozitif tahminlerin %82'si doğru.\n",
        "    Diğer bir deyişle, model 0 sınıfında %18 oranında hata yapıyor.\n",
        "\n",
        "  **Recall (Duyarlılık): 0.79**\n",
        "\n",
        "  Gerçekten sınıf 0 olan örneklerin %79'unu doğru bir şekilde tahmin ediyor.\n",
        "  Model, sınıf 0 olan örneklerin %21'ini kaçırıyor.\n",
        "\n",
        "  **F1-Score: 0.80**\n",
        "\n",
        "  Precision ve recall'un harmonik ortalaması. Bu değer, modelin sınıf 0 için genel performansını özetler.\n",
        "\n",
        "**Sınıf 1 (Pozitif Sınıf)**\n",
        "  **Precision (Kesinlik): 0.62**\n",
        "\n",
        "  Modelinizin sınıf 1 için yaptığı pozitif tahminlerin %62'si doğru.\n",
        "  Bu, sınıf 1 tahminlerinde %38 oranında hata yapıldığını gösterir.\n",
        "\n",
        "  **Recall (Duyarlılık): 0.66**\n",
        "\n",
        "  Gerçekten sınıf 1 olan örneklerin %66'sını doğru tahmin ediyor.\n",
        "  Model, sınıf 1 olan örneklerin %34'ünü kaçırıyor.\n",
        "\n",
        "  **F1-Score: 0.64**\n",
        "  Precision ve recall'un harmonik ortalaması. Bu değer, modelin sınıf 1 için genel performansını özetler.\n",
        "\n",
        "**Genel Performans**\n",
        "  **Accuracy (Doğruluk):** 0.74\n",
        "  Genel doğruluk, modelin tüm test verisi üzerindeki doğruluk oranını gösterir.\n",
        "\n",
        "  **Macro Average (Makro Ortalama):**\n",
        "  Precision: 0.72\n",
        "  Recall: 0.73\n",
        "  F1-Score: 0.72\n",
        "  Makro ortalama, her iki sınıfın performansını eşit ağırlıkla alır ve ortalama performansı gösterir.\n",
        "\n",
        "  **Weighted Average (Ağırlıklı Ortalama):**\n",
        "  Precision: 0.75\n",
        "  Recall: 0.74\n",
        "  F1-Score: 0.75\n",
        "  Ağırlıklı ortalama, her sınıfın veri setindeki temsil oranına göre ağırlıklandırılarak hesaplanır.\n",
        "\n",
        "\n",
        "**Yorum ve Öneriler**\n",
        "  Dengesizlik: Precision ve recall değerleri arasında belirgin bir fark var. Sınıf 1 için precision ve recall değerleri, sınıf 0'a göre daha düşük. Bu, modelin sınıf 1'i sınıf 0'dan daha az iyi tanıdığı anlamına gelir.\n",
        "\n",
        "  **Model Geliştirme:**\n",
        "\n",
        "  Özellik Seçimi: Daha fazla özellik eklemeyi veya mevcut özellikleri iyileştirmeyi düşünebilirsiniz.\n",
        "  Veri Dengesizliği: Eğer veri setinizde sınıf dengesizliği varsa, bu durumu dengelemek için çeşitli teknikler (SMOTE, class weighting) kullanabilirsiniz.\n",
        "  Farklı Algoritmalar: Farklı makine öğrenimi algoritmalarını (Random Forest, Support Vector Machine, XGBoost) deneyerek performansı karşılaştırabilirsiniz.\n",
        "  Hiperparametre Optimizasyonu: Mevcut modelinizin hiperparametrelerini optimize ederek performansı artırabilirsiniz.\n",
        "  Sonuç olarak, modeliniz sınıf 0'ı iyi bir şekilde tanırken, sınıf 1'de performans düşüklüğü yaşıyor. Bu durum, modelin sınıf dengesizliği veya sınıf 1'e ait örneklerin daha az belirgin özelliklere sahip olmasından kaynaklanabilir. Bu nedenle, veri dengesizliği ile başa çıkmak ve modelin performansını artırmak için yukarıdaki önerilere başvurabilirsiniz."
      ],
      "metadata": {
        "id": "bwe_mZ6QQfDj"
      }
    },
    {
      "cell_type": "markdown",
      "source": [
        " **3.\tVeri setinizi rastgele olarak %70 eğitim %30 test olacak şekilde ayırınız. Eğitim veri seti için K-en yakın komşuluk sınıflandırıcısını uygulayınız. En iyi k değerini belirleyerek Elde ettiğiniz sonuçları raporlayınız.**  \n",
        "\n"
      ],
      "metadata": {
        "id": "bV8grHpvdGIF"
      }
    },
    {
      "cell_type": "code",
      "source": [
        "from sklearn.neighbors import KNeighborsClassifier\n",
        "\n",
        "\n",
        "# Separate features (X) and target variable (y)\n",
        "X = df.drop('CV', axis=1)\n",
        "y = df['CV']\n",
        "\n",
        "# Split the data into training and testing sets\n",
        "X_train, X_test, y_train, y_test = train_test_split(X, y, test_size=0.3, random_state=42)\n",
        "\n",
        "# Define a range of k values to test\n",
        "k_values = range(1, 21)\n",
        "\n",
        "# Initialize lists to store accuracy scores for each k value\n",
        "accuracy_scores = []\n",
        "\n",
        "# Iterate through the k values and train the KNN classifier\n",
        "for k in k_values:\n",
        "    knn = KNeighborsClassifier(n_neighbors=k)\n",
        "    knn.fit(X_train, y_train)\n",
        "    y_pred = knn.predict(X_test)\n",
        "    accuracy = accuracy_score(y_test, y_pred)\n",
        "    accuracy_scores.append(accuracy)\n",
        "\n",
        "# Find the k value with the highest accuracy\n",
        "best_k = k_values[accuracy_scores.index(max(accuracy_scores))]\n",
        "\n",
        "# Print the results\n",
        "print(f\"Best k value: {best_k}\")\n",
        "print(f\"Highest accuracy: {max(accuracy_scores)}\")"
      ],
      "metadata": {
        "colab": {
          "base_uri": "https://localhost:8080/"
        },
        "id": "4FUzBmPKdLzI",
        "outputId": "a13c0a88-6723-4456-a37d-d342f0bd78f9"
      },
      "execution_count": 3,
      "outputs": [
        {
          "output_type": "stream",
          "name": "stdout",
          "text": [
            "Best k value: 13\n",
            "Highest accuracy: 0.7445887445887446\n"
          ]
        }
      ]
    },
    {
      "cell_type": "markdown",
      "source": [
        "**Sonuçların Yorumlanması**\n",
        "\n",
        "**En İyi **\n",
        "**𝑘**\n",
        "**k Değeri: 13**  \n",
        "\n",
        "𝑘\n",
        "k değeri 13 olduğunda, modelinizin performansı en yüksek seviyede. Bu, KNN algoritmasının, eğitim verilerindeki en yakın 13 komşuyu kullanarak en iyi sonucu verdiği anlamına gelir.\n",
        "\n",
        "**En Yüksek Doğruluk: 0.7445887445887446**\n",
        "\n",
        "Modelinizin doğruluğu yaklaşık %74. Bu, test veri setinde modelin yaptığı tahminlerin %74'ünün doğru olduğu anlamına gelir.\n",
        "\n",
        "**Değerlendirme ve Öneriler**\n",
        "\n",
        "**Model Performansı:**\n",
        "\n",
        "%74 doğruluk skoru, birçok makine öğrenimi problemi için makul bir performans olarak değerlendirilebilir. Ancak, daha yüksek doğruluk oranları elde etmek için çeşitli iyileştirmeler yapılabilir.\n",
        "\n",
        "**KNN Algoritmasının Özellikleri:**\n",
        "\n",
        "KNN algoritması, yüksek boyutlu veri setlerinde performans kaybı yaşayabilir. Bu durumda, özellik seçimi veya boyut indirgeme yöntemleri kullanarak performans artırılabilir.\n",
        "KNN'nin performansı ayrıca veri setindeki örneklerin yoğunluğuna ve veri setindeki gürültüye karşı da hassastır. Bu yüzden veri ön işleme adımları önemlidir.\n",
        "\n",
        "**Diğer Modellerle Karşılaştırma:**\n",
        "\n",
        "KNN algoritması dışında, başka makine öğrenimi algoritmaları (örneğin, Decision Trees, Random Forests, SVM, Logistic Regression) kullanarak model performansınızı karşılaştırabilirsiniz. Bu, en iyi modeli belirlemenize yardımcı olabilir.\n",
        "\n",
        "**Hiperparametre Optimizasyonu:**\n",
        "\n",
        "KNN'nin\n",
        "𝑘\n",
        "k parametresi dışında, mesafe metriği gibi başka hiperparametrelerini de optimize edebilirsiniz. Bu, modelin performansını artırabilir.\n",
        "\n",
        "**K-Fold Çapraz Doğrulama:**\n",
        "\n",
        "Modelinizin doğruluğunu daha iyi değerlendirmek için K-Fold çapraz doğrulama yöntemini kullanabilirsiniz. Bu yöntem, veri setini birden fazla kez bölerek, modelin performansını daha genel bir şekilde değerlendirmenize olanak tanır.\n",
        "\n",
        "\n",
        "Özetle, elde ettiğiniz sonuçlar doğrultusunda KNN modeli ile %74 doğruluk skoru yakalamışsınız. En iyi performansı veren\n",
        "𝑘\n",
        "k değeri 13 olarak belirlenmiş. Daha yüksek performans elde etmek için diğer algoritmaları denemek ve modelin hiperparametrelerini optimize etmek faydalı olabilir."
      ],
      "metadata": {
        "id": "TvLzhYSYd-Mq"
      }
    },
    {
      "cell_type": "markdown",
      "source": [
        "**4.\tVeri setinizi rastgele olarak %70 eğitim %30 test olacak şekilde ayırınız. Eğitim veri seti için Multi-Layer Perceptron (MLP) ve Support Vector Machines (SVM) sınıflandırıcılarını uygulayınız. Eğitim ve test adımlarında elde ettiğiniz sonucları raporlayınız.**"
      ],
      "metadata": {
        "id": "BLz_k3B1fHVe"
      }
    },
    {
      "cell_type": "code",
      "source": [
        "from sklearn.neural_network import MLPClassifier\n",
        "from sklearn.svm import SVC\n",
        "\n",
        "# Separate features (X) and target variable (y)\n",
        "X = df.drop('CV', axis=1)\n",
        "y = df['CV']\n",
        "\n",
        "# Split the data into training and testing sets\n",
        "X_train, X_test, y_train, y_test = train_test_split(X, y, test_size=0.3, random_state=42)\n",
        "\n",
        "# MLP Classifier\n",
        "mlp = MLPClassifier(hidden_layer_sizes=(100,), activation='relu', solver='adam', random_state=42)\n",
        "mlp.fit(X_train, y_train)\n",
        "y_pred_mlp = mlp.predict(X_test)\n",
        "accuracy_mlp = accuracy_score(y_test, y_pred_mlp)\n",
        "print(f\"MLP Training Accuracy: {mlp.score(X_train, y_train)}\")\n",
        "print(f\"MLP Testing Accuracy: {accuracy_mlp}\")\n",
        "\n",
        "# SVM Classifier\n",
        "svm = SVC(kernel='rbf', random_state=42)\n",
        "svm.fit(X_train, y_train)\n",
        "y_pred_svm = svm.predict(X_test)\n",
        "accuracy_svm = accuracy_score(y_test, y_pred_svm)\n",
        "print(f\"SVM Training Accuracy: {svm.score(X_train, y_train)}\")\n",
        "print(f\"SVM Testing Accuracy: {accuracy_svm}\")"
      ],
      "metadata": {
        "colab": {
          "base_uri": "https://localhost:8080/"
        },
        "id": "Bl8ufjccfKI2",
        "outputId": "6054fe1e-8e49-47f1-f122-b8bc674e7409"
      },
      "execution_count": 4,
      "outputs": [
        {
          "output_type": "stream",
          "name": "stdout",
          "text": [
            "MLP Training Accuracy: 0.7914338919925512\n",
            "MLP Testing Accuracy: 0.7229437229437229\n",
            "SVM Training Accuracy: 0.7802607076350093\n",
            "SVM Testing Accuracy: 0.7359307359307359\n"
          ]
        }
      ]
    },
    {
      "cell_type": "markdown",
      "source": [
        "Elde ettiğiniz sonuçları yorumlayarak, MLPClassifier ve SVM modellerinin performanslarını karşılaştıralım:\n",
        "\n",
        "**MLPClassifier (Multi-Layer Perceptron)**\n",
        "•\tTraining Accuracy (Eğitim Doğruluğu): 0.7914338919925512\n",
        "o\tModel, eğitim verisi üzerinde yaklaşık %79 doğruluğa sahip. Bu, modelin eğitim verisindeki örneklerin %79'unu doğru bir şekilde sınıflandırdığı anlamına gelir.\n",
        "•\tTesting Accuracy (Test Doğruluğu): 0.7229437229437229\n",
        "o\tModel, test verisi üzerinde yaklaşık %72 doğruluğa sahip. Bu, modelin daha önce görmediği test verisindeki örneklerin %72'sini doğru bir şekilde sınıflandırdığı anlamına gelir.\n",
        "\n",
        "**SVM (Support Vector Machine)**\n",
        "•\tTraining Accuracy (Eğitim Doğruluğu): 0.7802607076350093\n",
        "o\tModel, eğitim verisi üzerinde yaklaşık %78 doğruluğa sahip.\n",
        "•\tTesting Accuracy (Test Doğruluğu): 0.7359307359307359\n",
        "o\tModel, test verisi üzerinde yaklaşık %73 doğruluğa sahip.\n",
        "\n",
        "**Karşılaştırma ve Değerlendirme**\n",
        "Eğitim Doğruluğu\n",
        "•\tMLP: %79\n",
        "•\tSVM: %78\n",
        "Eğitim verisi üzerinde, MLPClassifier biraz daha yüksek bir doğruluğa sahip. Bu, MLP modelinin eğitim verisindeki örnekleri daha iyi öğrendiği anlamına gelebilir.\n",
        "\n",
        "**Test Doğruluğu**\n",
        "•\tMLP: %72\n",
        "•\tSVM: %73\n",
        "Test verisi üzerinde, SVM modeli MLP modeline göre biraz daha yüksek bir doğruluğa sahip. Bu, SVM modelinin daha önce görmediği verileri biraz daha iyi genelleme yeteneğine sahip\n"
      ],
      "metadata": {
        "id": "N1NHY9M0f0S5"
      }
    },
    {
      "cell_type": "code",
      "source": [],
      "metadata": {
        "id": "g610UuMWf_He"
      },
      "execution_count": 4,
      "outputs": []
    }
  ]
}